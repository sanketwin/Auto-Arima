{
  "nbformat": 4,
  "nbformat_minor": 0,
  "metadata": {
    "colab": {
      "name": "SARIMA on CO2 Emission Data.ipynb",
      "provenance": [],
      "collapsed_sections": []
    },
    "kernelspec": {
      "name": "python3",
      "display_name": "Python 3"
    },
    "language_info": {
      "name": "python"
    }
  },
  "cells": [
    {
      "cell_type": "code",
      "metadata": {
        "id": "k7bDv4Rb57ev"
      },
      "source": [
        "import pandas as pd\n",
        "import numpy as np\n",
        "import matplotlib.pyplot as plt\n",
        "import seaborn as sns"
      ],
      "execution_count": 87,
      "outputs": []
    },
    {
      "cell_type": "code",
      "metadata": {
        "id": "zXB0eXMYDBu5"
      },
      "source": [
        "df = pd.read_csv(\"/content/co2-mm-mlo.csv\",index_col='Date', parse_dates=[\"Date\"])\n",
        "df.asfreq(\"MS\")"
      ],
      "execution_count": null,
      "outputs": []
    },
    {
      "cell_type": "code",
      "metadata": {
        "colab": {
          "base_uri": "https://localhost:8080/",
          "height": 235
        },
        "id": "xOefi_oERYxI",
        "outputId": "51420d5d-388b-4d1e-dec6-ac068a40db95"
      },
      "source": [
        "df.head()"
      ],
      "execution_count": 95,
      "outputs": [
        {
          "output_type": "execute_result",
          "data": {
            "text/html": [
              "<div>\n",
              "<style scoped>\n",
              "    .dataframe tbody tr th:only-of-type {\n",
              "        vertical-align: middle;\n",
              "    }\n",
              "\n",
              "    .dataframe tbody tr th {\n",
              "        vertical-align: top;\n",
              "    }\n",
              "\n",
              "    .dataframe thead th {\n",
              "        text-align: right;\n",
              "    }\n",
              "</style>\n",
              "<table border=\"1\" class=\"dataframe\">\n",
              "  <thead>\n",
              "    <tr style=\"text-align: right;\">\n",
              "      <th></th>\n",
              "      <th>Decimal Date</th>\n",
              "      <th>Average</th>\n",
              "      <th>Interpolated</th>\n",
              "      <th>Trend</th>\n",
              "      <th>Number of Days</th>\n",
              "    </tr>\n",
              "    <tr>\n",
              "      <th>Date</th>\n",
              "      <th></th>\n",
              "      <th></th>\n",
              "      <th></th>\n",
              "      <th></th>\n",
              "      <th></th>\n",
              "    </tr>\n",
              "  </thead>\n",
              "  <tbody>\n",
              "    <tr>\n",
              "      <th>1958-01-03</th>\n",
              "      <td>1958.208</td>\n",
              "      <td>315.71</td>\n",
              "      <td>315.71</td>\n",
              "      <td>314.62</td>\n",
              "      <td>-1</td>\n",
              "    </tr>\n",
              "    <tr>\n",
              "      <th>1958-01-04</th>\n",
              "      <td>1958.292</td>\n",
              "      <td>317.45</td>\n",
              "      <td>317.45</td>\n",
              "      <td>315.29</td>\n",
              "      <td>-1</td>\n",
              "    </tr>\n",
              "    <tr>\n",
              "      <th>1958-01-05</th>\n",
              "      <td>1958.375</td>\n",
              "      <td>317.50</td>\n",
              "      <td>317.50</td>\n",
              "      <td>314.71</td>\n",
              "      <td>-1</td>\n",
              "    </tr>\n",
              "    <tr>\n",
              "      <th>1958-01-06</th>\n",
              "      <td>1958.458</td>\n",
              "      <td>-99.99</td>\n",
              "      <td>317.10</td>\n",
              "      <td>314.85</td>\n",
              "      <td>-1</td>\n",
              "    </tr>\n",
              "    <tr>\n",
              "      <th>1958-01-07</th>\n",
              "      <td>1958.542</td>\n",
              "      <td>315.86</td>\n",
              "      <td>315.86</td>\n",
              "      <td>314.98</td>\n",
              "      <td>-1</td>\n",
              "    </tr>\n",
              "  </tbody>\n",
              "</table>\n",
              "</div>"
            ],
            "text/plain": [
              "            Decimal Date  Average  Interpolated   Trend  Number of Days\n",
              "Date                                                                   \n",
              "1958-01-03      1958.208   315.71        315.71  314.62              -1\n",
              "1958-01-04      1958.292   317.45        317.45  315.29              -1\n",
              "1958-01-05      1958.375   317.50        317.50  314.71              -1\n",
              "1958-01-06      1958.458   -99.99        317.10  314.85              -1\n",
              "1958-01-07      1958.542   315.86        315.86  314.98              -1"
            ]
          },
          "metadata": {
            "tags": []
          },
          "execution_count": 95
        }
      ]
    },
    {
      "cell_type": "code",
      "metadata": {
        "colab": {
          "base_uri": "https://localhost:8080/"
        },
        "id": "1YTVHUPvFbHn",
        "outputId": "5a212f7c-86b7-4cfc-9fe6-ec219153322a"
      },
      "source": [
        "df.info()"
      ],
      "execution_count": 96,
      "outputs": [
        {
          "output_type": "stream",
          "text": [
            "<class 'pandas.core.frame.DataFrame'>\n",
            "DatetimeIndex: 706 entries, 1958-01-03 to 2016-01-12\n",
            "Data columns (total 5 columns):\n",
            " #   Column          Non-Null Count  Dtype  \n",
            "---  ------          --------------  -----  \n",
            " 0   Decimal Date    706 non-null    float64\n",
            " 1   Average         706 non-null    float64\n",
            " 2   Interpolated    706 non-null    float64\n",
            " 3   Trend           706 non-null    float64\n",
            " 4   Number of Days  706 non-null    int64  \n",
            "dtypes: float64(4), int64(1)\n",
            "memory usage: 53.1 KB\n"
          ],
          "name": "stdout"
        }
      ]
    },
    {
      "cell_type": "code",
      "metadata": {
        "colab": {
          "base_uri": "https://localhost:8080/"
        },
        "id": "PZ9TPWSoHVc-",
        "outputId": "a6779d7b-ff4b-4b8d-a3ec-5ae2ed9a757d"
      },
      "source": [
        "df.isna().sum()"
      ],
      "execution_count": 97,
      "outputs": [
        {
          "output_type": "execute_result",
          "data": {
            "text/plain": [
              "Decimal Date      0\n",
              "Average           0\n",
              "Interpolated      0\n",
              "Trend             0\n",
              "Number of Days    0\n",
              "dtype: int64"
            ]
          },
          "metadata": {
            "tags": []
          },
          "execution_count": 97
        }
      ]
    },
    {
      "cell_type": "code",
      "metadata": {
        "colab": {
          "base_uri": "https://localhost:8080/",
          "height": 286
        },
        "id": "I8Rxm-afY9CF",
        "outputId": "e5a162ac-76d2-4704-c1db-282a87012ef8"
      },
      "source": [
        "df[\"Interpolated\"].plot()"
      ],
      "execution_count": 107,
      "outputs": [
        {
          "output_type": "execute_result",
          "data": {
            "text/plain": [
              "<matplotlib.axes._subplots.AxesSubplot at 0x7fa678c89c50>"
            ]
          },
          "metadata": {
            "tags": []
          },
          "execution_count": 107
        },
        {
          "output_type": "display_data",
          "data": {
            "image/png": "[encoded data removed]",
            "text/plain": [
              "<Figure size 432x288 with 1 Axes>"
            ]
          },
          "metadata": {
            "tags": [],
            "needs_background": "light"
          }
        }
      ]
    },
    {
      "cell_type": "code",
      "metadata": {
        "id": "x0f8QTofDR-p"
      },
      "source": [
        "pip install pmdarima"
      ],
      "execution_count": null,
      "outputs": []
    },
    {
      "cell_type": "code",
      "metadata": {
        "id": "3tE3UN6kD-iB"
      },
      "source": [
        "from pmdarima import auto_arima"
      ],
      "execution_count": 77,
      "outputs": []
    },
    {
      "cell_type": "code",
      "metadata": {
        "colab": {
          "base_uri": "https://localhost:8080/"
        },
        "id": "08yltT5bECu4",
        "outputId": "25ea3970-63d0-4ce5-988c-6f301831a644"
      },
      "source": [
        "auto_arima = auto_arima(df['Interpolated'],error_action='ignore',seasonal=True,m=12,trace=True)"
      ],
      "execution_count": 78,
      "outputs": [
        {
          "output_type": "stream",
          "text": [
            "Performing stepwise search to minimize aic\n",
            " ARIMA(2,1,2)(1,0,1)[12] intercept   : AIC=479.217, Time=3.77 sec\n",
            " ARIMA(0,1,0)(0,0,0)[12] intercept   : AIC=2290.715, Time=0.04 sec\n",
            " ARIMA(1,1,0)(1,0,0)[12] intercept   : AIC=inf, Time=1.23 sec\n",
            " ARIMA(0,1,1)(0,0,1)[12] intercept   : AIC=1552.865, Time=0.67 sec\n",
            " ARIMA(0,1,0)(0,0,0)[12]             : AIC=2296.126, Time=0.03 sec\n",
            " ARIMA(2,1,2)(0,0,1)[12] intercept   : AIC=inf, Time=3.54 sec\n",
            " ARIMA(2,1,2)(1,0,0)[12] intercept   : AIC=733.571, Time=4.03 sec\n",
            " ARIMA(2,1,2)(2,0,1)[12] intercept   : AIC=480.751, Time=10.46 sec\n",
            " ARIMA(2,1,2)(1,0,2)[12] intercept   : AIC=530.227, Time=9.83 sec\n",
            " ARIMA(2,1,2)(0,0,0)[12] intercept   : AIC=1387.127, Time=1.08 sec\n",
            " ARIMA(2,1,2)(0,0,2)[12] intercept   : AIC=inf, Time=9.45 sec\n",
            " ARIMA(2,1,2)(2,0,0)[12] intercept   : AIC=583.680, Time=11.95 sec\n",
            " ARIMA(2,1,2)(2,0,2)[12] intercept   : AIC=474.238, Time=11.89 sec\n",
            " ARIMA(1,1,2)(2,0,2)[12] intercept   : AIC=433.264, Time=10.60 sec\n",
            " ARIMA(1,1,2)(1,0,2)[12] intercept   : AIC=477.491, Time=9.09 sec\n",
            " ARIMA(1,1,2)(2,0,1)[12] intercept   : AIC=448.482, Time=7.78 sec\n",
            " ARIMA(1,1,2)(1,0,1)[12] intercept   : AIC=446.456, Time=3.39 sec\n",
            " ARIMA(0,1,2)(2,0,2)[12] intercept   : AIC=424.048, Time=10.95 sec\n",
            " ARIMA(0,1,2)(1,0,2)[12] intercept   : AIC=425.245, Time=8.81 sec\n",
            " ARIMA(0,1,2)(2,0,1)[12] intercept   : AIC=442.338, Time=8.16 sec\n",
            " ARIMA(0,1,2)(1,0,1)[12] intercept   : AIC=444.657, Time=3.50 sec\n",
            " ARIMA(0,1,1)(2,0,2)[12] intercept   : AIC=426.651, Time=8.56 sec\n",
            " ARIMA(0,1,3)(2,0,2)[12] intercept   : AIC=434.086, Time=13.37 sec\n",
            " ARIMA(1,1,1)(2,0,2)[12] intercept   : AIC=423.278, Time=11.05 sec\n",
            " ARIMA(1,1,1)(1,0,2)[12] intercept   : AIC=469.126, Time=9.21 sec\n",
            " ARIMA(1,1,1)(2,0,1)[12] intercept   : AIC=445.677, Time=8.28 sec\n",
            " ARIMA(1,1,1)(1,0,1)[12] intercept   : AIC=443.746, Time=3.04 sec\n",
            " ARIMA(1,1,0)(2,0,2)[12] intercept   : AIC=436.196, Time=8.24 sec\n",
            " ARIMA(2,1,1)(2,0,2)[12] intercept   : AIC=inf, Time=11.57 sec\n",
            " ARIMA(0,1,0)(2,0,2)[12] intercept   : AIC=inf, Time=6.14 sec\n",
            " ARIMA(2,1,0)(2,0,2)[12] intercept   : AIC=454.504, Time=9.31 sec\n",
            " ARIMA(1,1,1)(2,0,2)[12]             : AIC=inf, Time=9.08 sec\n",
            "\n",
            "Best model:  ARIMA(1,1,1)(2,0,2)[12] intercept\n",
            "Total fit time: 228.191 seconds\n"
          ],
          "name": "stdout"
        }
      ]
    },
    {
      "cell_type": "code",
      "metadata": {
        "colab": {
          "base_uri": "https://localhost:8080/",
          "height": 528
        },
        "id": "4w_AvCN9He1R",
        "outputId": "4280f7eb-dbbc-49d6-d553-bdb00c4b2a5d"
      },
      "source": [
        "auto_arima.summary()"
      ],
      "execution_count": 79,
      "outputs": [
        {
          "output_type": "execute_result",
          "data": {
            "text/html": [
              "<table class=\"simpletable\">\n",
              "<caption>SARIMAX Results</caption>\n",
              "<tr>\n",
              "  <th>Dep. Variable:</th>                    <td>y</td>                  <th>  No. Observations:  </th>    <td>706</td>  \n",
              "</tr>\n",
              "<tr>\n",
              "  <th>Model:</th>           <td>SARIMAX(1, 1, 1)x(2, 0, [1, 2], 12)</td> <th>  Log Likelihood     </th> <td>-203.639</td>\n",
              "</tr>\n",
              "<tr>\n",
              "  <th>Date:</th>                     <td>Mon, 05 Jul 2021</td>           <th>  AIC                </th>  <td>423.278</td>\n",
              "</tr>\n",
              "<tr>\n",
              "  <th>Time:</th>                         <td>10:57:41</td>               <th>  BIC                </th>  <td>459.744</td>\n",
              "</tr>\n",
              "<tr>\n",
              "  <th>Sample:</th>                           <td>0</td>                  <th>  HQIC               </th>  <td>437.369</td>\n",
              "</tr>\n",
              "<tr>\n",
              "  <th></th>                               <td> - 706</td>                <th>                     </th>     <td> </td>   \n",
              "</tr>\n",
              "<tr>\n",
              "  <th>Covariance Type:</th>                 <td>opg</td>                 <th>                     </th>     <td> </td>   \n",
              "</tr>\n",
              "</table>\n",
              "<table class=\"simpletable\">\n",
              "<tr>\n",
              "      <td></td>         <th>coef</th>     <th>std err</th>      <th>z</th>      <th>P>|z|</th>  <th>[0.025</th>    <th>0.975]</th>  \n",
              "</tr>\n",
              "<tr>\n",
              "  <th>intercept</th> <td> 8.024e-05</td> <td>    0.000</td> <td>    0.613</td> <td> 0.540</td> <td>   -0.000</td> <td>    0.000</td>\n",
              "</tr>\n",
              "<tr>\n",
              "  <th>ar.L1</th>     <td>    0.4006</td> <td>    0.077</td> <td>    5.236</td> <td> 0.000</td> <td>    0.251</td> <td>    0.551</td>\n",
              "</tr>\n",
              "<tr>\n",
              "  <th>ma.L1</th>     <td>   -0.7061</td> <td>    0.058</td> <td>  -12.142</td> <td> 0.000</td> <td>   -0.820</td> <td>   -0.592</td>\n",
              "</tr>\n",
              "<tr>\n",
              "  <th>ar.S.L12</th>  <td>    0.2308</td> <td>    0.190</td> <td>    1.217</td> <td> 0.224</td> <td>   -0.141</td> <td>    0.602</td>\n",
              "</tr>\n",
              "<tr>\n",
              "  <th>ar.S.L24</th>  <td>    0.7682</td> <td>    0.190</td> <td>    4.052</td> <td> 0.000</td> <td>    0.397</td> <td>    1.140</td>\n",
              "</tr>\n",
              "<tr>\n",
              "  <th>ma.S.L12</th>  <td>   -0.0764</td> <td>    0.185</td> <td>   -0.413</td> <td> 0.679</td> <td>   -0.439</td> <td>    0.286</td>\n",
              "</tr>\n",
              "<tr>\n",
              "  <th>ma.S.L24</th>  <td>   -0.6736</td> <td>    0.160</td> <td>   -4.219</td> <td> 0.000</td> <td>   -0.987</td> <td>   -0.361</td>\n",
              "</tr>\n",
              "<tr>\n",
              "  <th>sigma2</th>    <td>    0.0971</td> <td>    0.005</td> <td>   20.076</td> <td> 0.000</td> <td>    0.088</td> <td>    0.107</td>\n",
              "</tr>\n",
              "</table>\n",
              "<table class=\"simpletable\">\n",
              "<tr>\n",
              "  <th>Ljung-Box (L1) (Q):</th>     <td>2.01</td> <th>  Jarque-Bera (JB):  </th> <td>5.49</td>\n",
              "</tr>\n",
              "<tr>\n",
              "  <th>Prob(Q):</th>                <td>0.16</td> <th>  Prob(JB):          </th> <td>0.06</td>\n",
              "</tr>\n",
              "<tr>\n",
              "  <th>Heteroskedasticity (H):</th> <td>1.16</td> <th>  Skew:              </th> <td>0.05</td>\n",
              "</tr>\n",
              "<tr>\n",
              "  <th>Prob(H) (two-sided):</th>    <td>0.25</td> <th>  Kurtosis:          </th> <td>3.42</td>\n",
              "</tr>\n",
              "</table><br/><br/>Warnings:<br/>[1] Covariance matrix calculated using the outer product of gradients (complex-step)."
            ],
            "text/plain": [
              "<class 'statsmodels.iolib.summary.Summary'>\n",
              "\"\"\"\n",
              "                                        SARIMAX Results                                        \n",
              "===============================================================================================\n",
              "Dep. Variable:                                       y   No. Observations:                  706\n",
              "Model:             SARIMAX(1, 1, 1)x(2, 0, [1, 2], 12)   Log Likelihood                -203.639\n",
              "Date:                                 Mon, 05 Jul 2021   AIC                            423.278\n",
              "Time:                                         10:57:41   BIC                            459.744\n",
              "Sample:                                              0   HQIC                           437.369\n",
              "                                                 - 706                                         \n",
              "Covariance Type:                                   opg                                         \n",
              "==============================================================================\n",
              "                 coef    std err          z      P>|z|      [0.025      0.975]\n",
              "------------------------------------------------------------------------------\n",
              "intercept   8.024e-05      0.000      0.613      0.540      -0.000       0.000\n",
              "ar.L1          0.4006      0.077      5.236      0.000       0.251       0.551\n",
              "ma.L1         -0.7061      0.058    -12.142      0.000      -0.820      -0.592\n",
              "ar.S.L12       0.2308      0.190      1.217      0.224      -0.141       0.602\n",
              "ar.S.L24       0.7682      0.190      4.052      0.000       0.397       1.140\n",
              "ma.S.L12      -0.0764      0.185     -0.413      0.679      -0.439       0.286\n",
              "ma.S.L24      -0.6736      0.160     -4.219      0.000      -0.987      -0.361\n",
              "sigma2         0.0971      0.005     20.076      0.000       0.088       0.107\n",
              "===================================================================================\n",
              "Ljung-Box (L1) (Q):                   2.01   Jarque-Bera (JB):                 5.49\n",
              "Prob(Q):                              0.16   Prob(JB):                         0.06\n",
              "Heteroskedasticity (H):               1.16   Skew:                             0.05\n",
              "Prob(H) (two-sided):                  0.25   Kurtosis:                         3.42\n",
              "===================================================================================\n",
              "\n",
              "Warnings:\n",
              "[1] Covariance matrix calculated using the outer product of gradients (complex-step).\n",
              "\"\"\""
            ]
          },
          "metadata": {
            "tags": []
          },
          "execution_count": 79
        }
      ]
    },
    {
      "cell_type": "code",
      "metadata": {
        "id": "bxITcPLgUUw4"
      },
      "source": [
        "from statsmodels.tsa.statespace.sarimax import SARIMAX\n"
      ],
      "execution_count": 80,
      "outputs": []
    },
    {
      "cell_type": "code",
      "metadata": {
        "id": "tchRTEL4VgJf"
      },
      "source": [
        "model=SARIMAX(df['Interpolated'],order=(1,1,1),seasonal_order=(2,0,2,12)).fit(disp=0)\n",
        "ypred = model.predict()"
      ],
      "execution_count": null,
      "outputs": []
    },
    {
      "cell_type": "code",
      "metadata": {
        "colab": {
          "base_uri": "https://localhost:8080/",
          "height": 282
        },
        "id": "TNzvr0kUVsnI",
        "outputId": "5deb3bbd-0116-4881-81c5-7e408f83c63c"
      },
      "source": [
        "plt.plot(df[\"Interpolated\"],label=\"Interpolated\")\n",
        "plt.plot(ypred,label=\"SARIMA\")\n",
        "plt.legend()"
      ],
      "execution_count": 86,
      "outputs": [
        {
          "output_type": "execute_result",
          "data": {
            "text/plain": [
              "<matplotlib.legend.Legend at 0x7fa679503a90>"
            ]
          },
          "metadata": {
            "tags": []
          },
          "execution_count": 86
        },
        {
          "output_type": "display_data",
          "data": {
            "image/png": "[encoded data removed]",
            "text/plain": [
              "<Figure size 432x288 with 1 Axes>"
            ]
          },
          "metadata": {
            "tags": [],
            "needs_background": "light"
          }
        }
      ]
    }
  ]
}