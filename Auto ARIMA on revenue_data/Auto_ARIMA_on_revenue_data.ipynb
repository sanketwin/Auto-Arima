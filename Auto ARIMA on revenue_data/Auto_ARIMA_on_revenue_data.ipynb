{
  "nbformat": 4,
  "nbformat_minor": 0,
  "metadata": {
    "colab": {
      "name": "Auto ARIMA on revenue_data.ipynb",
      "provenance": [],
      "collapsed_sections": []
    },
    "kernelspec": {
      "name": "python3",
      "display_name": "Python 3"
    },
    "language_info": {
      "name": "python"
    }
  },
  "cells": [
    {
      "cell_type": "code",
      "metadata": {
        "id": "hEmTOkksrHRD"
      },
      "source": [
        "import pandas as pd\n",
        "import numpy as np\n",
        "import matplotlib.pyplot as plt\n",
        "import seaborn as sns"
      ],
      "execution_count": null,
      "outputs": []
    },
    {
      "cell_type": "code",
      "metadata": {
        "colab": {
          "base_uri": "https://localhost:8080/",
          "height": 235
        },
        "id": "Weoud-xXrZ2_",
        "outputId": "8aa9bafc-862b-4202-a340-1d39436daa04"
      },
      "source": [
        "df = pd.read_csv(\"/content/revenue_data.csv\",parse_dates=[\"Month\"],index_col=[\"Month\"])\n",
        "df.head()"
      ],
      "execution_count": null,
      "outputs": [
        {
          "output_type": "execute_result",
          "data": {
            "text/html": [
              "<div>\n",
              "<style scoped>\n",
              "    .dataframe tbody tr th:only-of-type {\n",
              "        vertical-align: middle;\n",
              "    }\n",
              "\n",
              "    .dataframe tbody tr th {\n",
              "        vertical-align: top;\n",
              "    }\n",
              "\n",
              "    .dataframe thead th {\n",
              "        text-align: right;\n",
              "    }\n",
              "</style>\n",
              "<table border=\"1\" class=\"dataframe\">\n",
              "  <thead>\n",
              "    <tr style=\"text-align: right;\">\n",
              "      <th></th>\n",
              "      <th>Sales</th>\n",
              "    </tr>\n",
              "    <tr>\n",
              "      <th>Month</th>\n",
              "      <th></th>\n",
              "    </tr>\n",
              "  </thead>\n",
              "  <tbody>\n",
              "    <tr>\n",
              "      <th>2015-01-01</th>\n",
              "      <td>27716</td>\n",
              "    </tr>\n",
              "    <tr>\n",
              "      <th>2015-02-01</th>\n",
              "      <td>25536</td>\n",
              "    </tr>\n",
              "    <tr>\n",
              "      <th>2015-03-01</th>\n",
              "      <td>28896</td>\n",
              "    </tr>\n",
              "    <tr>\n",
              "      <th>2015-04-01</th>\n",
              "      <td>33540</td>\n",
              "    </tr>\n",
              "    <tr>\n",
              "      <th>2015-05-01</th>\n",
              "      <td>40755</td>\n",
              "    </tr>\n",
              "  </tbody>\n",
              "</table>\n",
              "</div>"
            ],
            "text/plain": [
              "            Sales\n",
              "Month            \n",
              "2015-01-01  27716\n",
              "2015-02-01  25536\n",
              "2015-03-01  28896\n",
              "2015-04-01  33540\n",
              "2015-05-01  40755"
            ]
          },
          "metadata": {
            "tags": []
          },
          "execution_count": 3
        }
      ]
    },
    {
      "cell_type": "code",
      "metadata": {
        "id": "CyawU-JrrzOf"
      },
      "source": [
        "#Checking for the data types of data from dataset"
      ],
      "execution_count": null,
      "outputs": []
    },
    {
      "cell_type": "code",
      "metadata": {
        "colab": {
          "base_uri": "https://localhost:8080/"
        },
        "id": "DpacYgAsrqF-",
        "outputId": "106c6462-d79f-4c3b-f37d-692ea005ea8a"
      },
      "source": [
        "df.info()"
      ],
      "execution_count": null,
      "outputs": [
        {
          "output_type": "stream",
          "text": [
            "<class 'pandas.core.frame.DataFrame'>\n",
            "DatetimeIndex: 60 entries, 2015-01-01 to 2019-12-01\n",
            "Data columns (total 1 columns):\n",
            " #   Column  Non-Null Count  Dtype\n",
            "---  ------  --------------  -----\n",
            " 0   Sales   60 non-null     int64\n",
            "dtypes: int64(1)\n",
            "memory usage: 960.0 bytes\n"
          ],
          "name": "stdout"
        }
      ]
    },
    {
      "cell_type": "code",
      "metadata": {
        "id": "yWxkoVkjrxr2"
      },
      "source": [
        "#Checking if there are any null values are present in the dataset."
      ],
      "execution_count": null,
      "outputs": []
    },
    {
      "cell_type": "code",
      "metadata": {
        "colab": {
          "base_uri": "https://localhost:8080/"
        },
        "id": "YFKmMuRsr9eW",
        "outputId": "2b6761e9-42b8-4b97-ebd4-d45929a783c2"
      },
      "source": [
        "df.isna().sum()"
      ],
      "execution_count": null,
      "outputs": [
        {
          "output_type": "execute_result",
          "data": {
            "text/plain": [
              "Sales    0\n",
              "dtype: int64"
            ]
          },
          "metadata": {
            "tags": []
          },
          "execution_count": 6
        }
      ]
    },
    {
      "cell_type": "code",
      "metadata": {
        "colab": {
          "base_uri": "https://localhost:8080/"
        },
        "id": "aAytE3F2r_nu",
        "outputId": "1957de03-048d-462f-f5db-04cc0a5c8bc8"
      },
      "source": [
        "df.shape"
      ],
      "execution_count": null,
      "outputs": [
        {
          "output_type": "execute_result",
          "data": {
            "text/plain": [
              "(60, 1)"
            ]
          },
          "metadata": {
            "tags": []
          },
          "execution_count": 7
        }
      ]
    },
    {
      "cell_type": "code",
      "metadata": {
        "colab": {
          "base_uri": "https://localhost:8080/",
          "height": 296
        },
        "id": "uRzndyB910i1",
        "outputId": "9d512302-9bc9-4f74-f410-8b8b8159e33c"
      },
      "source": [
        "df.plot()"
      ],
      "execution_count": null,
      "outputs": [
        {
          "output_type": "execute_result",
          "data": {
            "text/plain": [
              "<matplotlib.axes._subplots.AxesSubplot at 0x7f89706ca650>"
            ]
          },
          "metadata": {
            "tags": []
          },
          "execution_count": 8
        },
        {
          "output_type": "display_data",
          "data": {
            "image/png": "[encoded data removed]",
            "text/plain": [
              "<Figure size 432x288 with 1 Axes>"
            ]
          },
          "metadata": {
            "tags": [],
            "needs_background": "light"
          }
        }
      ]
    },
    {
      "cell_type": "code",
      "metadata": {
        "colab": {
          "base_uri": "https://localhost:8080/"
        },
        "id": "Cjup9FezsGe-",
        "outputId": "81bde1c6-a6fb-4201-c24b-f9545e549d77"
      },
      "source": [
        "from statsmodels.tsa.stattools import adfuller\n",
        "res = adfuller(df.Sales)\n",
        "p_val=res[1]\n",
        "if p_val > 0.05:\n",
        "  print(\"Not Stationary\")\n",
        "else:\n",
        "  print(\"Stationary\")"
      ],
      "execution_count": null,
      "outputs": [
        {
          "output_type": "stream",
          "text": [
            "Not Stationary\n"
          ],
          "name": "stdout"
        }
      ]
    },
    {
      "cell_type": "code",
      "metadata": {
        "id": "YztUqYbfs4qF"
      },
      "source": [
        "x = df[[\"Sales\"]]"
      ],
      "execution_count": null,
      "outputs": []
    },
    {
      "cell_type": "code",
      "metadata": {
        "colab": {
          "base_uri": "https://localhost:8080/",
          "height": 235
        },
        "id": "QAAacBwf1KDd",
        "outputId": "32a8ae96-6251-46f7-f017-70a56ee39cc5"
      },
      "source": [
        "x.head()"
      ],
      "execution_count": null,
      "outputs": [
        {
          "output_type": "execute_result",
          "data": {
            "text/html": [
              "<div>\n",
              "<style scoped>\n",
              "    .dataframe tbody tr th:only-of-type {\n",
              "        vertical-align: middle;\n",
              "    }\n",
              "\n",
              "    .dataframe tbody tr th {\n",
              "        vertical-align: top;\n",
              "    }\n",
              "\n",
              "    .dataframe thead th {\n",
              "        text-align: right;\n",
              "    }\n",
              "</style>\n",
              "<table border=\"1\" class=\"dataframe\">\n",
              "  <thead>\n",
              "    <tr style=\"text-align: right;\">\n",
              "      <th></th>\n",
              "      <th>Sales</th>\n",
              "    </tr>\n",
              "    <tr>\n",
              "      <th>Month</th>\n",
              "      <th></th>\n",
              "    </tr>\n",
              "  </thead>\n",
              "  <tbody>\n",
              "    <tr>\n",
              "      <th>2015-01-01</th>\n",
              "      <td>27716</td>\n",
              "    </tr>\n",
              "    <tr>\n",
              "      <th>2015-02-01</th>\n",
              "      <td>25536</td>\n",
              "    </tr>\n",
              "    <tr>\n",
              "      <th>2015-03-01</th>\n",
              "      <td>28896</td>\n",
              "    </tr>\n",
              "    <tr>\n",
              "      <th>2015-04-01</th>\n",
              "      <td>33540</td>\n",
              "    </tr>\n",
              "    <tr>\n",
              "      <th>2015-05-01</th>\n",
              "      <td>40755</td>\n",
              "    </tr>\n",
              "  </tbody>\n",
              "</table>\n",
              "</div>"
            ],
            "text/plain": [
              "            Sales\n",
              "Month            \n",
              "2015-01-01  27716\n",
              "2015-02-01  25536\n",
              "2015-03-01  28896\n",
              "2015-04-01  33540\n",
              "2015-05-01  40755"
            ]
          },
          "metadata": {
            "tags": []
          },
          "execution_count": 101
        }
      ]
    },
    {
      "cell_type": "code",
      "metadata": {
        "id": "BP4vCIJJtfXe"
      },
      "source": [
        "train_len = int(len(x) * 0.8)"
      ],
      "execution_count": null,
      "outputs": []
    },
    {
      "cell_type": "code",
      "metadata": {
        "id": "7khPHlp_tkdd"
      },
      "source": [
        "train = x[:train_len]\n",
        "test = x[train_len:]"
      ],
      "execution_count": null,
      "outputs": []
    },
    {
      "cell_type": "code",
      "metadata": {
        "colab": {
          "base_uri": "https://localhost:8080/"
        },
        "id": "7drsYT1-3F92",
        "outputId": "458d9e4f-6789-4be8-e673-e2e3b2a84a66"
      },
      "source": [
        "len(train)"
      ],
      "execution_count": null,
      "outputs": [
        {
          "output_type": "execute_result",
          "data": {
            "text/plain": [
              "48"
            ]
          },
          "metadata": {
            "tags": []
          },
          "execution_count": 13
        }
      ]
    },
    {
      "cell_type": "code",
      "metadata": {
        "colab": {
          "base_uri": "https://localhost:8080/"
        },
        "id": "chKIQj1htpeV",
        "outputId": "6ce45d25-e193-4ed7-d581-b852284c1710"
      },
      "source": [
        "print(train.shape)\n",
        "print(test.shape)"
      ],
      "execution_count": null,
      "outputs": [
        {
          "output_type": "stream",
          "text": [
            "(48, 1)\n",
            "(12, 1)\n"
          ],
          "name": "stdout"
        }
      ]
    },
    {
      "cell_type": "code",
      "metadata": {
        "id": "VapMypFTtC9W"
      },
      "source": [
        "from pmdarima import auto_arima"
      ],
      "execution_count": null,
      "outputs": []
    },
    {
      "cell_type": "code",
      "metadata": {
        "colab": {
          "base_uri": "https://localhost:8080/"
        },
        "id": "l-9xrM0LtHgG",
        "outputId": "5b1ad627-539d-4d77-c561-61cd70308209"
      },
      "source": [
        "auto_arima = auto_arima(train,trace=True)"
      ],
      "execution_count": null,
      "outputs": [
        {
          "output_type": "stream",
          "text": [
            "Performing stepwise search to minimize aic\n",
            " ARIMA(2,0,2)(0,0,0)[0] intercept   : AIC=947.035, Time=0.29 sec\n",
            " ARIMA(0,0,0)(0,0,0)[0] intercept   : AIC=968.228, Time=0.01 sec\n",
            " ARIMA(1,0,0)(0,0,0)[0] intercept   : AIC=964.061, Time=0.02 sec\n",
            " ARIMA(0,0,1)(0,0,0)[0] intercept   : AIC=961.147, Time=0.03 sec\n",
            " ARIMA(0,0,0)(0,0,0)[0]             : AIC=1136.989, Time=0.01 sec\n",
            " ARIMA(1,0,2)(0,0,0)[0] intercept   : AIC=956.660, Time=0.10 sec\n",
            " ARIMA(2,0,1)(0,0,0)[0] intercept   : AIC=967.716, Time=0.17 sec\n",
            " ARIMA(3,0,2)(0,0,0)[0] intercept   : AIC=945.550, Time=0.43 sec\n",
            " ARIMA(3,0,1)(0,0,0)[0] intercept   : AIC=947.770, Time=0.26 sec\n",
            " ARIMA(4,0,2)(0,0,0)[0] intercept   : AIC=944.968, Time=0.38 sec\n",
            " ARIMA(4,0,1)(0,0,0)[0] intercept   : AIC=947.885, Time=0.27 sec\n",
            " ARIMA(5,0,2)(0,0,0)[0] intercept   : AIC=949.332, Time=0.43 sec\n",
            " ARIMA(4,0,3)(0,0,0)[0] intercept   : AIC=953.337, Time=0.38 sec\n",
            " ARIMA(3,0,3)(0,0,0)[0] intercept   : AIC=inf, Time=0.40 sec\n",
            " ARIMA(5,0,1)(0,0,0)[0] intercept   : AIC=949.644, Time=0.39 sec\n",
            " ARIMA(5,0,3)(0,0,0)[0] intercept   : AIC=946.843, Time=0.46 sec\n",
            " ARIMA(4,0,2)(0,0,0)[0]             : AIC=inf, Time=0.29 sec\n",
            "\n",
            "Best model:  ARIMA(4,0,2)(0,0,0)[0] intercept\n",
            "Total fit time: 4.334 seconds\n"
          ],
          "name": "stdout"
        }
      ]
    },
    {
      "cell_type": "code",
      "metadata": {
        "id": "-fZn3deHtseV",
        "colab": {
          "base_uri": "https://localhost:8080/",
          "height": 930
        },
        "outputId": "4e2aa1bf-a730-4e77-cbb5-95d217e36cb6"
      },
      "source": [
        "from statsmodels.tsa.arima_model import ARIMA\n",
        "model = ARIMA(train,order=(4,0,2))\n",
        "model_fit = model.fit()\n",
        "model_fit.summary()"
      ],
      "execution_count": null,
      "outputs": [
        {
          "output_type": "stream",
          "text": [
            "/usr/local/lib/python3.7/dist-packages/statsmodels/tsa/arima_model.py:472: FutureWarning: \n",
            "statsmodels.tsa.arima_model.ARMA and statsmodels.tsa.arima_model.ARIMA have\n",
            "been deprecated in favor of statsmodels.tsa.arima.model.ARIMA (note the .\n",
            "between arima and model) and\n",
            "statsmodels.tsa.SARIMAX. These will be removed after the 0.12 release.\n",
            "\n",
            "statsmodels.tsa.arima.model.ARIMA makes use of the statespace framework and\n",
            "is both well tested and maintained.\n",
            "\n",
            "To silence this warning and continue using ARMA and ARIMA until they are\n",
            "removed, use:\n",
            "\n",
            "import warnings\n",
            "warnings.filterwarnings('ignore', 'statsmodels.tsa.arima_model.ARMA',\n",
            "                        FutureWarning)\n",
            "warnings.filterwarnings('ignore', 'statsmodels.tsa.arima_model.ARIMA',\n",
            "                        FutureWarning)\n",
            "\n",
            "  warnings.warn(ARIMA_DEPRECATION_WARN, FutureWarning)\n",
            "/usr/local/lib/python3.7/dist-packages/statsmodels/tsa/base/tsa_model.py:527: ValueWarning: No frequency information was provided, so inferred frequency MS will be used.\n",
            "  % freq, ValueWarning)\n",
            "/usr/local/lib/python3.7/dist-packages/statsmodels/base/model.py:548: HessianInversionWarning: Inverting hessian failed, no bse or cov_params available\n",
            "  'available', HessianInversionWarning)\n"
          ],
          "name": "stderr"
        },
        {
          "output_type": "execute_result",
          "data": {
            "text/html": [
              "<table class=\"simpletable\">\n",
              "<caption>ARMA Model Results</caption>\n",
              "<tr>\n",
              "  <th>Dep. Variable:</th>       <td>Sales</td>      <th>  No. Observations:  </th>    <td>48</td>   \n",
              "</tr>\n",
              "<tr>\n",
              "  <th>Model:</th>            <td>ARMA(4, 2)</td>    <th>  Log Likelihood     </th> <td>-458.036</td>\n",
              "</tr>\n",
              "<tr>\n",
              "  <th>Method:</th>             <td>css-mle</td>     <th>  S.D. of innovations</th> <td>3098.745</td>\n",
              "</tr>\n",
              "<tr>\n",
              "  <th>Date:</th>          <td>Fri, 02 Jul 2021</td> <th>  AIC                </th>  <td>932.071</td>\n",
              "</tr>\n",
              "<tr>\n",
              "  <th>Time:</th>              <td>10:58:30</td>     <th>  BIC                </th>  <td>947.041</td>\n",
              "</tr>\n",
              "<tr>\n",
              "  <th>Sample:</th>           <td>01-01-2015</td>    <th>  HQIC               </th>  <td>937.728</td>\n",
              "</tr>\n",
              "<tr>\n",
              "  <th></th>                 <td>- 12-01-2018</td>   <th>                     </th>     <td> </td>   \n",
              "</tr>\n",
              "</table>\n",
              "<table class=\"simpletable\">\n",
              "<tr>\n",
              "       <td></td>          <th>coef</th>     <th>std err</th>      <th>z</th>      <th>P>|z|</th>  <th>[0.025</th>    <th>0.975]</th>  \n",
              "</tr>\n",
              "<tr>\n",
              "  <th>const</th>       <td> 3.247e+04</td> <td>  371.972</td> <td>   87.280</td> <td> 0.000</td> <td> 3.17e+04</td> <td> 3.32e+04</td>\n",
              "</tr>\n",
              "<tr>\n",
              "  <th>ar.L1.Sales</th> <td>    0.7425</td> <td>    0.210</td> <td>    3.543</td> <td> 0.000</td> <td>    0.332</td> <td>    1.153</td>\n",
              "</tr>\n",
              "<tr>\n",
              "  <th>ar.L2.Sales</th> <td>   -0.9983</td> <td>    0.178</td> <td>   -5.600</td> <td> 0.000</td> <td>   -1.348</td> <td>   -0.649</td>\n",
              "</tr>\n",
              "<tr>\n",
              "  <th>ar.L3.Sales</th> <td>    0.0127</td> <td>    0.183</td> <td>    0.069</td> <td> 0.945</td> <td>   -0.346</td> <td>    0.372</td>\n",
              "</tr>\n",
              "<tr>\n",
              "  <th>ar.L4.Sales</th> <td>   -0.2601</td> <td>    0.234</td> <td>   -1.113</td> <td> 0.266</td> <td>   -0.718</td> <td>    0.198</td>\n",
              "</tr>\n",
              "<tr>\n",
              "  <th>ma.L1.Sales</th> <td>   -0.7672</td> <td>    0.183</td> <td>   -4.196</td> <td> 0.000</td> <td>   -1.126</td> <td>   -0.409</td>\n",
              "</tr>\n",
              "<tr>\n",
              "  <th>ma.L2.Sales</th> <td>    1.0000</td> <td>    0.079</td> <td>   12.680</td> <td> 0.000</td> <td>    0.845</td> <td>    1.155</td>\n",
              "</tr>\n",
              "</table>\n",
              "<table class=\"simpletable\">\n",
              "<caption>Roots</caption>\n",
              "<tr>\n",
              "    <td></td>   <th>            Real</th>  <th>         Imaginary</th> <th>         Modulus</th>  <th>        Frequency</th>\n",
              "</tr>\n",
              "<tr>\n",
              "  <th>AR.1</th> <td>           0.5045</td> <td>          -0.8712j</td> <td>           1.0067</td> <td>          -0.1665</td>\n",
              "</tr>\n",
              "<tr>\n",
              "  <th>AR.2</th> <td>           0.5045</td> <td>          +0.8712j</td> <td>           1.0067</td> <td>           0.1665</td>\n",
              "</tr>\n",
              "<tr>\n",
              "  <th>AR.3</th> <td>          -0.4800</td> <td>          -1.8877j</td> <td>           1.9478</td> <td>          -0.2896</td>\n",
              "</tr>\n",
              "<tr>\n",
              "  <th>AR.4</th> <td>          -0.4800</td> <td>          +1.8877j</td> <td>           1.9478</td> <td>           0.2896</td>\n",
              "</tr>\n",
              "<tr>\n",
              "  <th>MA.1</th> <td>           0.3836</td> <td>          -0.9235j</td> <td>           1.0000</td> <td>          -0.1873</td>\n",
              "</tr>\n",
              "<tr>\n",
              "  <th>MA.2</th> <td>           0.3836</td> <td>          +0.9235j</td> <td>           1.0000</td> <td>           0.1873</td>\n",
              "</tr>\n",
              "</table>"
            ],
            "text/plain": [
              "<class 'statsmodels.iolib.summary.Summary'>\n",
              "\"\"\"\n",
              "                              ARMA Model Results                              \n",
              "==============================================================================\n",
              "Dep. Variable:                  Sales   No. Observations:                   48\n",
              "Model:                     ARMA(4, 2)   Log Likelihood                -458.036\n",
              "Method:                       css-mle   S.D. of innovations           3098.745\n",
              "Date:                Fri, 02 Jul 2021   AIC                            932.071\n",
              "Time:                        10:58:30   BIC                            947.041\n",
              "Sample:                    01-01-2015   HQIC                           937.728\n",
              "                         - 12-01-2018                                         \n",
              "===============================================================================\n",
              "                  coef    std err          z      P>|z|      [0.025      0.975]\n",
              "-------------------------------------------------------------------------------\n",
              "const        3.247e+04    371.972     87.280      0.000    3.17e+04    3.32e+04\n",
              "ar.L1.Sales     0.7425      0.210      3.543      0.000       0.332       1.153\n",
              "ar.L2.Sales    -0.9983      0.178     -5.600      0.000      -1.348      -0.649\n",
              "ar.L3.Sales     0.0127      0.183      0.069      0.945      -0.346       0.372\n",
              "ar.L4.Sales    -0.2601      0.234     -1.113      0.266      -0.718       0.198\n",
              "ma.L1.Sales    -0.7672      0.183     -4.196      0.000      -1.126      -0.409\n",
              "ma.L2.Sales     1.0000      0.079     12.680      0.000       0.845       1.155\n",
              "                                    Roots                                    \n",
              "=============================================================================\n",
              "                  Real          Imaginary           Modulus         Frequency\n",
              "-----------------------------------------------------------------------------\n",
              "AR.1            0.5045           -0.8712j            1.0067           -0.1665\n",
              "AR.2            0.5045           +0.8712j            1.0067            0.1665\n",
              "AR.3           -0.4800           -1.8877j            1.9478           -0.2896\n",
              "AR.4           -0.4800           +1.8877j            1.9478            0.2896\n",
              "MA.1            0.3836           -0.9235j            1.0000           -0.1873\n",
              "MA.2            0.3836           +0.9235j            1.0000            0.1873\n",
              "-----------------------------------------------------------------------------\n",
              "\"\"\""
            ]
          },
          "metadata": {
            "tags": []
          },
          "execution_count": 17
        }
      ]
    },
    {
      "cell_type": "code",
      "metadata": {
        "colab": {
          "base_uri": "https://localhost:8080/",
          "height": 282
        },
        "id": "6AnIpDmmuE01",
        "outputId": "978524e5-1fbd-44ab-d6e3-3a0c2b67f363"
      },
      "source": [
        "plt.plot(train,label=\"Train\")\n",
        "plt.plot(test,label=\"Test\")\n",
        "plt.legend()"
      ],
      "execution_count": null,
      "outputs": [
        {
          "output_type": "execute_result",
          "data": {
            "text/plain": [
              "<matplotlib.legend.Legend at 0x7f8951f88e10>"
            ]
          },
          "metadata": {
            "tags": []
          },
          "execution_count": 19
        },
        {
          "output_type": "display_data",
          "data": {
            "image/png": "[encoded data removed]",
            "text/plain": [
              "<Figure size 432x288 with 1 Axes>"
            ]
          },
          "metadata": {
            "tags": [],
            "needs_background": "light"
          }
        }
      ]
    },
    {
      "cell_type": "code",
      "metadata": {
        "colab": {
          "base_uri": "https://localhost:8080/"
        },
        "id": "2qbIkajtuQZt",
        "outputId": "5bc404dc-9444-412a-bd9f-1b1ecd0e746a"
      },
      "source": [
        "start = len(train)\n",
        "end = len(x) - 1\n",
        "print(start,end)"
      ],
      "execution_count": null,
      "outputs": [
        {
          "output_type": "stream",
          "text": [
            "48 59\n"
          ],
          "name": "stdout"
        }
      ]
    },
    {
      "cell_type": "code",
      "metadata": {
        "colab": {
          "base_uri": "https://localhost:8080/",
          "height": 235
        },
        "id": "PlymPwH1zA3F",
        "outputId": "66e1ce9f-dc43-4960-de1a-b09f39a240b0"
      },
      "source": [
        "x.tail()"
      ],
      "execution_count": null,
      "outputs": [
        {
          "output_type": "execute_result",
          "data": {
            "text/html": [
              "<div>\n",
              "<style scoped>\n",
              "    .dataframe tbody tr th:only-of-type {\n",
              "        vertical-align: middle;\n",
              "    }\n",
              "\n",
              "    .dataframe tbody tr th {\n",
              "        vertical-align: top;\n",
              "    }\n",
              "\n",
              "    .dataframe thead th {\n",
              "        text-align: right;\n",
              "    }\n",
              "</style>\n",
              "<table border=\"1\" class=\"dataframe\">\n",
              "  <thead>\n",
              "    <tr style=\"text-align: right;\">\n",
              "      <th></th>\n",
              "      <th>Sales</th>\n",
              "    </tr>\n",
              "    <tr>\n",
              "      <th>Month</th>\n",
              "      <th></th>\n",
              "    </tr>\n",
              "  </thead>\n",
              "  <tbody>\n",
              "    <tr>\n",
              "      <th>2019-08-01</th>\n",
              "      <td>30668</td>\n",
              "    </tr>\n",
              "    <tr>\n",
              "      <th>2019-09-01</th>\n",
              "      <td>34410</td>\n",
              "    </tr>\n",
              "    <tr>\n",
              "      <th>2019-10-01</th>\n",
              "      <td>36670</td>\n",
              "    </tr>\n",
              "    <tr>\n",
              "      <th>2019-11-01</th>\n",
              "      <td>44505</td>\n",
              "    </tr>\n",
              "    <tr>\n",
              "      <th>2019-12-01</th>\n",
              "      <td>37740</td>\n",
              "    </tr>\n",
              "  </tbody>\n",
              "</table>\n",
              "</div>"
            ],
            "text/plain": [
              "            Sales\n",
              "Month            \n",
              "2019-08-01  30668\n",
              "2019-09-01  34410\n",
              "2019-10-01  36670\n",
              "2019-11-01  44505\n",
              "2019-12-01  37740"
            ]
          },
          "metadata": {
            "tags": []
          },
          "execution_count": 66
        }
      ]
    },
    {
      "cell_type": "code",
      "metadata": {
        "id": "DSleN3v6uWqt"
      },
      "source": [
        "ypred_test = model_fit.predict(start=start,end=end)"
      ],
      "execution_count": null,
      "outputs": []
    },
    {
      "cell_type": "code",
      "metadata": {
        "colab": {
          "base_uri": "https://localhost:8080/"
        },
        "id": "rmQrEUUVubk1",
        "outputId": "2ef7a65c-cfa8-4f30-b3b0-fb2bb8966b53"
      },
      "source": [
        "ypred_test.head()"
      ],
      "execution_count": null,
      "outputs": [
        {
          "output_type": "execute_result",
          "data": {
            "text/plain": [
              "2019-01-01    26202.490022\n",
              "2019-02-01    25945.225591\n",
              "2019-03-01    31014.911325\n",
              "2019-04-01    36790.770871\n",
              "2019-05-01    38671.295804\n",
              "Freq: MS, dtype: float64"
            ]
          },
          "metadata": {
            "tags": []
          },
          "execution_count": 22
        }
      ]
    },
    {
      "cell_type": "code",
      "metadata": {
        "colab": {
          "base_uri": "https://localhost:8080/",
          "height": 308
        },
        "id": "ISERw4dhudPt",
        "outputId": "5c70e843-63b5-470a-dfcf-3c17adba70c3"
      },
      "source": [
        "test.plot()\n",
        "ypred_test.plot()"
      ],
      "execution_count": null,
      "outputs": [
        {
          "output_type": "execute_result",
          "data": {
            "text/plain": [
              "<matplotlib.axes._subplots.AxesSubplot at 0x7f8950cb03d0>"
            ]
          },
          "metadata": {
            "tags": []
          },
          "execution_count": 23
        },
        {
          "output_type": "display_data",
          "data": {
            "image/png": "[encoded data removed]",
            "text/plain": [
              "<Figure size 432x288 with 1 Axes>"
            ]
          },
          "metadata": {
            "tags": [],
            "needs_background": "light"
          }
        }
      ]
    },
    {
      "cell_type": "code",
      "metadata": {
        "id": "fyX2674wuhql"
      },
      "source": [
        "from sklearn.metrics import mean_absolute_error,mean_squared_error,r2_score"
      ],
      "execution_count": null,
      "outputs": []
    },
    {
      "cell_type": "code",
      "metadata": {
        "id": "n0eaoud6vQ1l"
      },
      "source": [
        "MSE = mean_squared_error(test,ypred_test)\n",
        "RMSE = np.sqrt(MSE)\n",
        "MAE = mean_absolute_error(test,ypred_test)"
      ],
      "execution_count": null,
      "outputs": []
    },
    {
      "cell_type": "code",
      "metadata": {
        "colab": {
          "base_uri": "https://localhost:8080/"
        },
        "id": "VTMM4vzkveOE",
        "outputId": "a36d6a5a-4b1b-417b-e6d1-ac278cc401a6"
      },
      "source": [
        "print(\"MSE :\",MSE)\n",
        "print(\"RMSE :\",RMSE)\n",
        "print(\"MAE :\",MAE)"
      ],
      "execution_count": null,
      "outputs": [
        {
          "output_type": "stream",
          "text": [
            "MSE : 13245958.740993947\n",
            "RMSE : 3639.499792690466\n",
            "MAE : 3012.474017148725\n"
          ],
          "name": "stdout"
        }
      ]
    },
    {
      "cell_type": "code",
      "metadata": {
        "colab": {
          "base_uri": "https://localhost:8080/"
        },
        "id": "oQ3b9-gLxPDu",
        "outputId": "59053c53-9f44-403e-dc02-725c456ddd66"
      },
      "source": [
        "ypred_test"
      ],
      "execution_count": null,
      "outputs": [
        {
          "output_type": "execute_result",
          "data": {
            "text/plain": [
              "2019-01-01    26202.490022\n",
              "2019-02-01    25945.225591\n",
              "2019-03-01    31014.911325\n",
              "2019-04-01    36790.770871\n",
              "2019-05-01    38671.295804\n",
              "2019-06-01    34432.970544\n",
              "2019-07-01    28163.839924\n",
              "2019-08-01    26262.075284\n",
              "2019-09-01    30565.515761\n",
              "2019-10-01    36681.716838\n",
              "2019-11-01    38532.933818\n",
              "2019-12-01    34350.985017\n",
              "Freq: MS, dtype: float64"
            ]
          },
          "metadata": {
            "tags": []
          },
          "execution_count": 27
        }
      ]
    },
    {
      "cell_type": "markdown",
      "metadata": {
        "id": "95h1Uh3K9PZj"
      },
      "source": [
        "#Function to Predict the Sales"
      ]
    },
    {
      "cell_type": "code",
      "metadata": {
        "id": "FjBjCekFvjKs",
        "colab": {
          "base_uri": "https://localhost:8080/"
        },
        "outputId": "1cb7ebfa-8d4b-4248-bec0-f0054d2918f8"
      },
      "source": [
        "date = input(\"Enter the date : \")\n",
        "start = \"2019-01-01\"\n",
        "ypred_test = model_fit.predict(start=start,end=date)\n",
        "print(ypred_test)"
      ],
      "execution_count": null,
      "outputs": [
        {
          "output_type": "stream",
          "text": [
            "Enter the date : 2019-12-01\n",
            "2019-01-01    26202.490022\n",
            "2019-02-01    25945.225591\n",
            "2019-03-01    31014.911325\n",
            "2019-04-01    36790.770871\n",
            "2019-05-01    38671.295804\n",
            "2019-06-01    34432.970544\n",
            "2019-07-01    28163.839924\n",
            "2019-08-01    26262.075284\n",
            "2019-09-01    30565.515761\n",
            "2019-10-01    36681.716838\n",
            "2019-11-01    38532.933818\n",
            "2019-12-01    34350.985017\n",
            "Freq: MS, dtype: float64\n"
          ],
          "name": "stdout"
        }
      ]
    },
    {
      "cell_type": "code",
      "metadata": {
        "id": "2WGnA3L_7pdz"
      },
      "source": [
        ""
      ],
      "execution_count": null,
      "outputs": []
    }
  ]
}